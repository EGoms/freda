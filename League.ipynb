{
 "cells": [
  {
   "cell_type": "code",
   "execution_count": 12,
   "metadata": {},
   "outputs": [],
   "source": [
    "%run hockey.py"
   ]
  },
  {
   "cell_type": "code",
   "execution_count": 13,
   "metadata": {},
   "outputs": [],
   "source": [
    "freda = League()\n",
    "freda.add_team(Team(\"Evan Gomolin\", load=True, budget = 12))\n",
    "freda.add_team(Team(\"Daniel Sandler\", load=True, budget = -22))\n",
    "freda.add_team(Team(\"Adam Deverett\", load=True, budget = 24))\n",
    "freda.add_team(Team(\"Benji Stern\", load=True, budget = -13))\n",
    "freda.add_team(Team(\"Josh Waksman\", load=True, budget = 4))\n",
    "freda.add_team(Team(\"David Waksman\", load=True, budget = -24))\n",
    "freda.add_team(Team(\"Noah Waksman\", load=True, budget = -14))\n",
    "freda.add_team(Team(\"Noah Nightingale\", load=True, budget = -12))\n",
    "freda.add_team(Team(\"Moshe Elmaleh\", load=True, budget = -20))\n",
    "freda.add_team(Team(\"Eli Sherman\", load=True, budget = 21))\n",
    "freda.add_team(Team(\"Josh Silverman\", load=True, budget = 26))\n",
    "freda.add_team(Team(\"Adam Fishman\", load=True, budget = 14))\n",
    "\n",
    "#freda.show_league()"
   ]
  },
  {
   "cell_type": "code",
   "execution_count": 14,
   "metadata": {},
   "outputs": [
    {
     "data": {
      "text/plain": [
       "326"
      ]
     },
     "execution_count": 14,
     "metadata": {},
     "output_type": "execute_result"
    }
   ],
   "source": [
    "team = freda.get_team(\"Evan Gomolin\")\n",
    "team.calculate_auction_budget()"
   ]
  },
  {
   "cell_type": "code",
   "execution_count": null,
   "metadata": {},
   "outputs": [],
   "source": []
  }
 ],
 "metadata": {
  "kernelspec": {
   "display_name": "Python 3",
   "language": "python",
   "name": "python3"
  },
  "language_info": {
   "codemirror_mode": {
    "name": "ipython",
    "version": 3
   },
   "file_extension": ".py",
   "mimetype": "text/x-python",
   "name": "python",
   "nbconvert_exporter": "python",
   "pygments_lexer": "ipython3",
   "version": "3.7.2"
  }
 },
 "nbformat": 4,
 "nbformat_minor": 2
}
