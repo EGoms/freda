{
 "cells": [
  {
   "cell_type": "code",
   "execution_count": 1,
   "metadata": {},
   "outputs": [],
   "source": [
    "%run hockey.py"
   ]
  },
  {
   "cell_type": "code",
   "execution_count": 2,
   "metadata": {},
   "outputs": [],
   "source": [
    "freda = League()"
   ]
  },
  {
   "cell_type": "code",
   "execution_count": 3,
   "metadata": {},
   "outputs": [],
   "source": [
    "evan = Team(\"Evan Gomolin\")\n",
    "evan.add_keeper(Player(\"Jack Hughes\", 4, True, 3))\n",
    "evan.add_keeper(Player(\"Cale Makar\", 4, True, 3))\n",
    "evan.add_keeper(Player(\"Timo Meier\", 9, True, 2))\n",
    "evan.add_keeper(Player(\"Darcy Kuemper\", 15, True, 1))\n",
    "evan.add_keeper(Player(\"Kasperi Kapanen\", 4, True, 1))\n",
    "\n",
    "evan.add_prospect(Player(\"Alex Newhook\", 1, prospect=True))\n",
    "evan.add_prospect(Player(\"Arthur Kaliyev\", 1, prospect=True))\n",
    "evan.add_prospect(Player(\"Eeli Tolvanen\", 1, prospect=True))\n",
    "evan.add_prospect(Player(\"Joe Veleno\", 1, prospect=True))\n",
    "evan.add_prospect(Player(\"Trevor Zegras\", 1, prospect=True))\n",
    "evan.add_prospect(Player(\"Ryan Suzuki\", 1, prospect=True))\n",
    "evan.add_prospect(Player(\"Ukko-Pekka Luukkonen\", 1, prospect=True))\n",
    "\n",
    "evan.write_to_file()"
   ]
  },
  {
   "cell_type": "code",
   "execution_count": 4,
   "metadata": {},
   "outputs": [],
   "source": [
    "daniel = Team(\"Daniel Sandler\")\n",
    "daniel.add_keeper(Player(\"Elvis Merzlikins\", 4, True, 2))\n",
    "daniel.add_keeper(Player(\"Tomas Hertl\", 11, True, 2))\n",
    "daniel.add_keeper(Player(\"Kevin Fiala\", 6, True, 2))\n",
    "daniel.add_keeper(Player(\"Max Domi\", 9, True, 1))\n",
    "daniel.add_keeper(Player(\"John Carlson\", 41, True, 1))\n",
    "daniel.add_keeper(Player(\"Neal Pionk\", 4, True, 1))\n",
    "\n",
    "daniel.add_prospect(Player(\"Barrett Hayton\", 1))\n",
    "daniel.add_prospect(Player(\"Dylan Cozens\", 1))\n",
    "daniel.add_prospect(Player(\"Vitali Kravtsov\", 1))\n",
    "\n",
    "daniel.write_to_file()"
   ]
  },
  {
   "cell_type": "code",
   "execution_count": 5,
   "metadata": {},
   "outputs": [],
   "source": [
    "deverett = Team(\"Adam Deverett\")\n",
    "deverett.add_keeper(Player(\"Igor Shesterkin\", 10, True, 3))\n",
    "deverett.add_keeper(Player(\"Rasmus Dahlin\", 9, True, 2))\n",
    "deverett.add_keeper(Player(\"Elias Lindholm\", 9, True, 2))\n",
    "deverett.add_keeper(Player(\"Kyle Connor\", 17, True, 1))\n",
    "deverett.add_keeper(Player(\"Ryan O'Reilly\", 28, True, 1))\n",
    "deverett.add_keeper(Player(\"Dominik Kubalik\", 10, True, 1))\n",
    "\n",
    "deverett.add_prospect(Player(\"Ilya Sorokin\", 1, prospect=True))\n",
    "deverett.add_prospect(Player(\"Linus Soderstrom\", 1, prospect=True))\n",
    "\n",
    "deverett.write_to_file()"
   ]
  },
  {
   "cell_type": "code",
   "execution_count": 6,
   "metadata": {},
   "outputs": [],
   "source": [
    "j_waks = Team(\"Josh Waksman\")\n",
    "j_waks.add_keeper(Player(\"Ilya Samsonov\", 4, True, 3))\n",
    "j_waks.add_keeper(Player(\"Quinn Hughes\", 4, True, 3))\n",
    "j_waks.add_keeper(Player(\"Mika Zibanejad\", 14, True, 2))\n",
    "j_waks.add_keeper(Player(\"Thomas Chabot\", 9, True, 1))\n",
    "j_waks.add_keeper(Player(\"Travis Konecny\", 15, True, 2))\n",
    "j_waks.add_keeper(Player(\"Brayden Point\", 18, True, 1))\n",
    "j_waks.add_keeper(Player(\"Anthony Mantha\", 12, True, 1))\n",
    "\n",
    "j_waks.write_to_file()"
   ]
  },
  {
   "cell_type": "code",
   "execution_count": 7,
   "metadata": {},
   "outputs": [],
   "source": [
    "n_waks = Team(\"Noah Waksman\")\n",
    "n_waks.add_keeper(Player(\"Martin Necas\", 4, True, 2))\n",
    "n_waks.add_keeper(Player(\"Jack Eichel\", 49, True, 2))\n",
    "n_waks.add_keeper(Player(\"Roman Josi\", 32, True, 2))\n",
    "n_waks.add_keeper(Player(\"Miro Heiskanen\", 9, True, 1))\n",
    "n_waks.add_keeper(Player(\"Jonathan Huberdeau\", 25, True, 1))\n",
    "n_waks.add_keeper(Player(\"Philip Grubauer\", 25, True, 1))\n",
    "n_waks.add_keeper(Player(\"J.T. Miller\", 6, True, 1))\n",
    "\n",
    "n_waks.add_prospect(Player(\"Jake Bean\", 1, prospect=True))\n",
    "n_waks.add_prospect(Player(\"Kieffer Bellows\", 1, prospect=True))\n",
    "n_waks.add_prospect(Player(\"Michael McLeod\", 1, prospect=True))\n",
    "n_waks.add_prospect(Player(\"Moritz Seider\", 1, prospect=True))\n",
    "\n",
    "n_waks.write_to_file()"
   ]
  },
  {
   "cell_type": "code",
   "execution_count": 8,
   "metadata": {},
   "outputs": [],
   "source": [
    "d_waks = Team(\"David Waksman\")\n",
    "d_waks.add_keeper(Player(\"Carter Hart\", 9, True, 2))\n",
    "d_waks.add_keeper(Player(\"Dylan Strome\", 9, True, 2))\n",
    "d_waks.add_keeper(Player(\"Kailer Yamamoto\", 10, True, 2))\n",
    "d_waks.add_keeper(Player(\"Artemi Panarin\", 51, True, 1))\n",
    "d_waks.add_keeper(Player(\"Nazem Kadri\", 11, True, 4))\n",
    "d_waks.add_keeper(Player(\"Jason Zucker\", 4, True, 2))\n",
    "\n",
    "d_waks.write_to_file()"
   ]
  },
  {
   "cell_type": "code",
   "execution_count": 9,
   "metadata": {},
   "outputs": [],
   "source": [
    "benji = Team(\"Benji Stern\")\n",
    "benji.add_keeper(Player(\"Tristan Jarry\", 4, True, 3))\n",
    "benji.add_keeper(Player(\"Andrei Svechnikov\", 9, True, 2))\n",
    "benji.add_keeper(Player(\"Brendan Gallagher\", 9, True, 1))\n",
    "benji.add_keeper(Player(\"Shea Theodore\", 17, True, 1))\n",
    "benji.add_keeper(Player(\"Sam Reinhart\", 19, True, 1))\n",
    "benji.add_keeper(Player(\"Nicklas Backstrom\", 43, True, 1))\n",
    "\n",
    "benji.add_prospect(Player(\"Bowen Byram\", 1, prospect=True))\n",
    "benji.add_prospect(Player(\"Evgeny Svechnikov\", 1, prospect=True))\n",
    "benji.add_prospect(Player(\"Kristian Vesalainen\", 1, prospect=True))\n",
    "benji.add_prospect(Player(\"Peyton Krebs\", 1, prospect=True))\n",
    "benji.add_prospect(Player(\"Spencer Knight\", 1, prospect=True))\n",
    "\n",
    "benji.write_to_file()"
   ]
  },
  {
   "cell_type": "code",
   "execution_count": 10,
   "metadata": {},
   "outputs": [],
   "source": [
    "fish = Team(\"Adam Fishman\")\n",
    "fish.add_keeper(Player(\"Cody Glass\", 4, True, 2))\n",
    "fish.add_keeper(Player(\"Dougie Hamilton\", 20, True, 2))\n",
    "fish.add_keeper(Player(\"Mark Stone\", 30, True, 2))\n",
    "fish.add_keeper(Player(\"Alex DeBrincat\", 17, True, 1))\n",
    "fish.add_keeper(Player(\"Matt Barzal\", 17, True, 1))\n",
    "fish.add_keeper(Player(\"Sean Monahan\", 38, True, 1))\n",
    "\n",
    "fish.add_prospect(Player(\"Egor Afanasyev\", 1, prospect=True))\n",
    "fish.add_prospect(Player(\"Klim Kostin\", 1, prospect=True))\n",
    "fish.add_prospect(Player(\"Oliver Wahlstrom\", 1, prospect=True))\n",
    "fish.add_prospect(Player(\"Rasmus Kupari\", 1, prospect=True))\n",
    "fish.add_prospect(Player(\"Vasily Podkolzin\", 1, prospect=True))\n",
    "\n",
    "fish.write_to_file()"
   ]
  },
  {
   "cell_type": "code",
   "execution_count": 11,
   "metadata": {},
   "outputs": [],
   "source": [
    "moshe = Team(\"Moshe Elmaleh\")\n",
    "moshe.add_keeper(Player(\"Max Pacioretty\", 8, True, 2))\n",
    "moshe.add_keeper(Player(\"Alex Pietrangelo\", 25, True, 2))\n",
    "moshe.add_keeper(Player(\"Juuse Saros\", 4, True, 2))\n",
    "moshe.add_keeper(Player(\"Matt Duchene\", 10, True, 1))\n",
    "\n",
    "moshe.add_prospect(Player(\"Ryan Merkley\", 1, prospect=True))\n",
    "moshe.add_prospect(Player(\"Thomas Harley\", 1, prospect=True))\n",
    "moshe.add_prospect(Player(\"Urho Vaakanainen\", 1, prospect=True))\n",
    "\n",
    "moshe.write_to_file()"
   ]
  },
  {
   "cell_type": "code",
   "execution_count": 12,
   "metadata": {},
   "outputs": [],
   "source": [
    "nighty = Team(\"Noah Nightingale\")\n",
    "nighty.add_keeper(Player(\"Filip Zadina\", 4, True, 3))\n",
    "nighty.add_keeper(Player(\"Elias Pettersson\", 9, True, 2))\n",
    "nighty.add_keeper(Player(\"Ivan Provorov\", 4, True, 2))\n",
    "nighty.add_keeper(Player(\"Kyle Palmieri\", 10, True, 1))\n",
    "nighty.add_keeper(Player(\"Pierre-Luc Dubois\", 17, True, 1))\n",
    "nighty.add_keeper(Player(\"Patrick Kane\", 53, True, 1))\n",
    "nighty.add_keeper(Player(\"Robin Lehner\", 26, True, 1))\n",
    "\n",
    "nighty.add_prospect(Player(\"Cole Caufield\", 1, prospect=True))\n",
    "nighty.add_prospect(Player(\"Gabe Vilardi\", 1, prospect=True))\n",
    "nighty.add_prospect(Player(\"Julien Gauthier\", 1, prospect=True))\n",
    "nighty.add_prospect(Player(\"Ty Dellandrea\", 1, prospect=True))\n",
    "\n",
    "nighty.write_to_file()"
   ]
  },
  {
   "cell_type": "code",
   "execution_count": 13,
   "metadata": {},
   "outputs": [],
   "source": [
    "eli = Team(\"Eli Sherman\")\n",
    "eli.add_keeper(Player(\"Nick Suzuki\", 4, True, 3))\n",
    "eli.add_keeper(Player(\"Rob Thomas\", 9, True, 2))\n",
    "eli.add_keeper(Player(\"Jordan Binnington\", 9, True, 2))\n",
    "eli.add_keeper(Player(\"Gabriel Landeskog\", 11, True, 2))\n",
    "eli.add_keeper(Player(\"Mark Giordano\", 14, True, 1))\n",
    "eli.add_keeper(Player(\"Seth Jones\", 37, True, 1))\n",
    "eli.add_keeper(Player(\"Victor Olofsson\", 4, True, 1))\n",
    "\n",
    "eli.add_prospect(Player(\"Alex Turcotte\", 1, prospect=True))\n",
    "eli.add_prospect(Player(\"Kirill Kaprizov\", 1, prospect=True))\n",
    "eli.add_prospect(Player(\"Morgan Frost\", 1, prospect=True))\n",
    "eli.add_prospect(Player(\"Olli Juolevi\", 1, prospect=True))\n",
    "eli.add_prospect(Player(\"Timothy Liljegren\", 1, prospect=True))\n",
    "eli.add_prospect(Player(\"Vitali Abramov\", 1, prospect=True))\n",
    "\n",
    "eli.write_to_file()"
   ]
  },
  {
   "cell_type": "code",
   "execution_count": 14,
   "metadata": {},
   "outputs": [],
   "source": [
    "silv = Team(\"Josh Silverman\")\n",
    "silv.add_keeper(Player(\"Jakub Vrana\", 4, True, 3))\n",
    "silv.add_keeper(Player(\"Anthony Duclair\", 4, True, 2))\n",
    "silv.add_keeper(Player(\"Brady Tkachuk\", 9, True, 1))\n",
    "silv.add_keeper(Player(\"Brock Boeser\", 17, True, 1))\n",
    "silv.add_keeper(Player(\"Connor Hellebuyck\", 19, True, 1))\n",
    "silv.add_keeper(Player(\"Cam Atkinson\", 19, True, 1))\n",
    "\n",
    "silv.add_prospect(Player(\"Logan Brown\", 1, prospect=True))\n",
    "silv.add_prospect(Player(\"Owen Tippet\", 1, prospect=True))\n",
    "\n",
    "silv.write_to_file()"
   ]
  }
 ],
 "metadata": {
  "kernelspec": {
   "display_name": "Python 3",
   "language": "python",
   "name": "python3"
  },
  "language_info": {
   "codemirror_mode": {
    "name": "ipython",
    "version": 3
   },
   "file_extension": ".py",
   "mimetype": "text/x-python",
   "name": "python",
   "nbconvert_exporter": "python",
   "pygments_lexer": "ipython3",
   "version": "3.7.2"
  }
 },
 "nbformat": 4,
 "nbformat_minor": 2
}
