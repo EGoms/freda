{
 "cells": [
  {
   "cell_type": "code",
   "execution_count": 8,
   "metadata": {},
   "outputs": [],
   "source": [
    "%run hockey.py"
   ]
  },
  {
   "cell_type": "code",
   "execution_count": 6,
   "metadata": {},
   "outputs": [],
   "source": [
    "freda = League()"
   ]
  },
  {
   "cell_type": "code",
   "execution_count": null,
   "metadata": {},
   "outputs": [],
   "source": [
    "evan = Team(\"Evan Gomolin\")"
   ]
  },
  {
   "cell_type": "code",
   "execution_count": null,
   "metadata": {},
   "outputs": [],
   "source": [
    "daniel = Team(\"Daniel Sandler\")\n",
    "daniel.add_keeper(Player(\"Elvis Merzlikins\", 4, True, 2))\n",
    "daniel.add_keeper(Player(\"Tomas Hertl\", 11, True, 2))\n",
    "daniel.add_keeper(Player(\"Kevin Fiala\", 6, True, 2))\n",
    "daniel.add_keeper(Player(\"Max Domi\", 9, True, 1))\n",
    "daniel.add_keeper(Player(\"John Carlson\", 41, True, 1))\n",
    "daniel.add_keeper(Player(\"Neal Pionk\", 4, True, 1))\n",
    "\n",
    "daniel.add_prospect(Player(\"Barrett Hayton\", 1))\n",
    "daniel.add_prospect(Player(\"Dylan Cozens\", 1))\n",
    "daniel.add_prospect(Player(\"Vitali Kravtsov\", 1))"
   ]
  },
  {
   "cell_type": "code",
   "execution_count": null,
   "metadata": {},
   "outputs": [],
   "source": [
    "deverett = Team(\"Adam Deverett\")\n",
    "deverett.add_keeper(Player(\"Igor Shesterkin\", 10, True, 3))\n",
    "deverett.add_keeper(Player(\"Rasmus Dahlin\", 9, True, 2))\n",
    "deverett.add_keeper(Player(\"Elias Lindholm\", 9, True, 2))\n",
    "deverett.add_keeper(Player(\"Kyle Connor\", 17, True, 1))\n",
    "deverett.add_keeper(Player(\"Ryan O'Reilly\", 28, True, 1))\n",
    "deverett.add_keeper(Player(\"Dominik Kubalik\", 10, True, 1))\n",
    "\n",
    "deverett.add_prospect(Player(\"Ilya Sorokin\", 1))\n",
    "deverett.add_prospect(Player(\"Linus Soderstrom\", 1))"
   ]
  },
  {
   "cell_type": "code",
   "execution_count": null,
   "metadata": {},
   "outputs": [],
   "source": [
    "j_waks = Team(\"Josh Waksman\")"
   ]
  },
  {
   "cell_type": "code",
   "execution_count": null,
   "metadata": {},
   "outputs": [],
   "source": [
    "n_waks = Team(\"Noah Waksman\")\n",
    "n_waks.add_keeper(Player())\n",
    "n_waks.add_keeper(Player())\n",
    "n_waks.add_keeper(Player())\n",
    "n_waks.add_keeper(Player())\n",
    "n_waks.add_keeper(Player())\n",
    "n_waks.add_keeper(Player())\n",
    "n_waks.add_keeper(Player())\n",
    "\n"
   ]
  },
  {
   "cell_type": "code",
   "execution_count": null,
   "metadata": {},
   "outputs": [],
   "source": [
    "d_waks = Team(\"David Waksman\")"
   ]
  },
  {
   "cell_type": "code",
   "execution_count": 9,
   "metadata": {},
   "outputs": [],
   "source": [
    "benji = Team(\"Benji Stern\")\n",
    "benji.add_keeper(Player(\"Tristan Jarry\", 4, True, 3))\n",
    "benji.add_keeper(Player(\"Andrei Svechnikov\", 9, True, 2))\n",
    "benji.add_keeper(Player(\"Brendan Gallagher\", 9, True, 1))\n",
    "benji.add_keeper(Player(\"Shea Theodore\", 17, True, 1))\n",
    "benji.add_keeper(Player(\"Sam Reinhart\", 19, True, 1))\n",
    "benji.add_keeper(Player(\"Nicklas Backstrom\", 43, True, 1))\n",
    "\n",
    "benji.add_prospect(Player(\"Bowen Byram\", 1))\n",
    "benji.add_prospect(Player(\"Evgeny Svechnikov\", 1))\n",
    "benji.add_prospect(Player(\"Kristian Vesalainen\", 1))\n",
    "benji.add_prospect(Player(\"Peyton Krebs\", 1))\n",
    "benji.add_prospect(Player(\"Spencer Knight\", 1))"
   ]
  },
  {
   "cell_type": "code",
   "execution_count": null,
   "metadata": {},
   "outputs": [],
   "source": [
    "fish = Team(\"Adam Fishman\")"
   ]
  },
  {
   "cell_type": "code",
   "execution_count": null,
   "metadata": {},
   "outputs": [],
   "source": [
    "moshe = Team(\"Moshe Elmaleh\")"
   ]
  },
  {
   "cell_type": "code",
   "execution_count": null,
   "metadata": {},
   "outputs": [],
   "source": [
    "nighty = Team(\"Noah Nightingale\")"
   ]
  },
  {
   "cell_type": "code",
   "execution_count": null,
   "metadata": {},
   "outputs": [],
   "source": [
    "eli = Team(\"Eli Sherman\")"
   ]
  },
  {
   "cell_type": "code",
   "execution_count": null,
   "metadata": {},
   "outputs": [],
   "source": [
    "silv = Team(\"Josh Silverman\")"
   ]
  }
 ],
 "metadata": {
  "kernelspec": {
   "display_name": "Python 3",
   "language": "python",
   "name": "python3"
  },
  "language_info": {
   "codemirror_mode": {
    "name": "ipython",
    "version": 3
   },
   "file_extension": ".py",
   "mimetype": "text/x-python",
   "name": "python",
   "nbconvert_exporter": "python",
   "pygments_lexer": "ipython3",
   "version": "3.7.2"
  }
 },
 "nbformat": 4,
 "nbformat_minor": 2
}
